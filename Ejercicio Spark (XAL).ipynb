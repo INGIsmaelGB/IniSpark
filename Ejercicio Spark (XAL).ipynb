{
 "cells": [
  {
   "cell_type": "code",
   "execution_count": 49,
   "id": "c53831d2",
   "metadata": {},
   "outputs": [],
   "source": [
    "import findspark\n",
    "findspark.init()\n",
    "\n",
    "from pyspark.sql import SparkSession\n",
    "spark = SparkSession.builder.getOrCreate()"
   ]
  },
  {
   "cell_type": "markdown",
   "id": "6865c403",
   "metadata": {},
   "source": [
    "Ejercicio Uno"
   ]
  },
  {
   "cell_type": "code",
   "execution_count": 52,
   "id": "c1ed0382",
   "metadata": {},
   "outputs": [
    {
     "name": "stdout",
     "output_type": "stream",
     "text": [
      "El primer DataFrame tiene 8107 filas\n",
      "El segundo DataFrame tiene 8107 filas\n"
     ]
    }
   ],
   "source": [
    "## Importar los csv airportList.csv y airportsLocation.csv\n",
    "df_list=spark.read.csv(\"EjercicioSpark/airportList.csv\",inferSchema=True, header=True)\n",
    "df_loc=spark.read.csv(\"EjercicioSpark/airportsLocation.csv\",inferSchema=True, header=True)\n",
    "print(\"El primer DataFrame tiene\",df_list.count(),\"filas\")\n",
    "print(\"El segundo DataFrame tiene\",df_loc.count(),\"filas\")"
   ]
  },
  {
   "cell_type": "code",
   "execution_count": 53,
   "id": "c3f8f48a",
   "metadata": {},
   "outputs": [
    {
     "name": "stdout",
     "output_type": "stream",
     "text": [
      "El primer DataFrame sin datos faltantes tiene 5880 filas\n",
      "El segundo DataFrame sin datos faltantes tiene 5880 filas\n"
     ]
    }
   ],
   "source": [
    "#Eliminar filas con datos faltantes\n",
    "df_list=df_list.dropna()\n",
    "df_loc=df_loc.dropna()\n",
    "print(\"El primer DataFrame sin datos faltantes tiene\",df_list.count(),\"filas\")\n",
    "print(\"El segundo DataFrame sin datos faltantes tiene\",df_loc.count(),\"filas\")"
   ]
  },
  {
   "cell_type": "code",
   "execution_count": 54,
   "id": "e71db204",
   "metadata": {},
   "outputs": [
    {
     "name": "stdout",
     "output_type": "stream",
     "text": [
      "root\n",
      " |-- airport_id: integer (nullable = true)\n",
      " |-- airport_name: string (nullable = true)\n",
      " |-- city_airport_location: string (nullable = true)\n",
      " |-- country: string (nullable = true)\n",
      " |-- airport_code: string (nullable = true)\n",
      " |-- latitude: double (nullable = true)\n",
      " |-- longitude: double (nullable = true)\n",
      " |-- altitude: integer (nullable = true)\n",
      " |-- timezone: double (nullable = true)\n",
      " |-- dst: string (nullable = true)\n",
      " |-- olson_timezone: string (nullable = true)\n",
      "\n"
     ]
    }
   ],
   "source": [
    "#Hacer Inner Join \n",
    "df_inner=df1.join(df2, df1[\"airport_code\"]==df2[\"airport_code\"]).drop(df2.airport_code)\n",
    "df_inner.printSchema()"
   ]
  },
  {
   "cell_type": "code",
   "execution_count": 56,
   "id": "7c9ac3cd",
   "metadata": {},
   "outputs": [
    {
     "name": "stdout",
     "output_type": "stream",
     "text": [
      "root\n",
      " |-- airport_id: integer (nullable = true)\n",
      " |-- airport_name: string (nullable = true)\n",
      " |-- city_airport_location: string (nullable = true)\n",
      " |-- country: string (nullable = true)\n",
      " |-- airport_code: string (nullable = true)\n",
      " |-- latitude: double (nullable = true)\n",
      " |-- longitude: double (nullable = true)\n",
      " |-- altitude: integer (nullable = true)\n",
      "\n"
     ]
    }
   ],
   "source": [
    "#Quitar columnas Innecesarias y ver esquema de datos\n",
    "df_inner=df_inner.drop(\"olson_timezone\",\"dst\",\"timezone\")\n",
    "df_inner.printSchema()"
   ]
  },
  {
   "cell_type": "code",
   "execution_count": 57,
   "id": "c66fd32d",
   "metadata": {},
   "outputs": [
    {
     "name": "stdout",
     "output_type": "stream",
     "text": [
      "Posiblemente hay 5884 aeropuertos corruptos. \n",
      "Con la siguiente informacion:\n",
      "+----------+--------------------+---------------------+---------+------------+---------+----------+--------+\n",
      "|airport_id|        airport_name|city_airport_location|  country|airport_code| latitude| longitude|altitude|\n",
      "+----------+--------------------+---------------------+---------+------------+---------+----------+--------+\n",
      "|         7|          Narsarsuaq|         Narssarssuaq|Greenland|         UAK|61.160517|-45.425978|     112|\n",
      "|         8|                Nuuk|             Godthaab|Greenland|         GOH|64.190922|-51.678064|     283|\n",
      "|         9|   Sondre Stromfjord|          Sondrestrom|Greenland|         SFJ|67.016969|-50.689325|     165|\n",
      "|        10|      Thule Air Base|                Thule|Greenland|         THU|76.531203|-68.703161|     251|\n",
      "|        11|            Akureyri|             Akureyri|  Iceland|         AEY|65.659994|-18.072703|       6|\n",
      "|        12|         Egilsstadir|          Egilsstadir|  Iceland|         EGS|65.283333|-14.401389|      76|\n",
      "|        13|        Hornafjordur|                 Hofn|  Iceland|         HFN|64.295556|-15.227222|      24|\n",
      "|        14|             Husavik|              Husavik|  Iceland|         HZK|65.952328|-17.425978|      48|\n",
      "|        15|          Isafjordur|           Isafjordur|  Iceland|         IFJ|66.058056|-23.135278|       8|\n",
      "|        16|Keflavik Internat...|             Keflavik|  Iceland|         KEF|   63.985|-22.605556|     171|\n",
      "|        17|      Patreksfjordur|       Patreksfjordur|  Iceland|         PFJ|65.555833|   -23.965|      11|\n",
      "|        18|           Reykjavik|            Reykjavik|  Iceland|         RKV|    64.13|-21.940556|      48|\n",
      "|        19|        Siglufjordur|         Siglufjordur|  Iceland|         SIJ|66.133333|-18.916667|      10|\n",
      "|        20|      Vestmannaeyjar|       Vestmannaeyjar|  Iceland|         VEY|63.424303|-20.278875|     326|\n",
      "|        21|     Sault Ste Marie|   Sault Sainte Marie|   Canada|         YAM|46.485001|-84.509445|     630|\n",
      "|        22| Winnipeg St Andrews|             Winnipeg|   Canada|         YAV|50.056389|  -97.0325|     760|\n",
      "|        23|          Shearwater|              Halifax|   Canada|         YAW|44.639721|-63.499444|     167|\n",
      "|        24|          St Anthony|          St. Anthony|   Canada|         YAY|51.391944|-56.083056|     108|\n",
      "|        25|              Tofino|               Tofino|   Canada|         YAZ|49.082222| -125.7725|      80|\n",
      "|        26|            Kugaaruk|            Pelly Bay|   Canada|         YBB|68.534444|-89.808056|      56|\n",
      "+----------+--------------------+---------------------+---------+------------+---------+----------+--------+\n",
      "only showing top 20 rows\n",
      "\n"
     ]
    }
   ],
   "source": [
    "#Consulta de datos sobre latitud igual o mayor a 40\n",
    "print(\"Posiblemente hay\",df_inner.count(),\"aeropuertos corruptos.\",\"\\nCon la siguiente informacion:\")\n",
    "df_inner.filter(df_inner.latitude>=40).show()"
   ]
  },
  {
   "cell_type": "markdown",
   "id": "b131ff0c",
   "metadata": {},
   "source": [
    "Ejercicio Dos"
   ]
  },
  {
   "cell_type": "code",
   "execution_count": 60,
   "id": "a55aec9d",
   "metadata": {
    "scrolled": false
   },
   "outputs": [
    {
     "name": "stdout",
     "output_type": "stream",
     "text": [
      "En 3987 aeropuertos pueden existir atentados. \n",
      "La informacion es la siguiente:\n",
      "+----------+--------------------+---------------------+----------------+------------+\n",
      "|airport_id|        airport_name|city_airport_location|         country|airport_code|\n",
      "+----------+--------------------+---------------------+----------------+------------+\n",
      "|         1|              Goroka|               Goroka|Papua New Guinea|         GKA|\n",
      "|         3|         Mount Hagen|          Mount Hagen|Papua New Guinea|         HGU|\n",
      "|         5|Port Moresby Jack...|         Port Moresby|Papua New Guinea|         POM|\n",
      "|         7|          Narsarsuaq|         Narssarssuaq|       Greenland|         UAK|\n",
      "|         9|   Sondre Stromfjord|          Sondrestrom|       Greenland|         SFJ|\n",
      "|        11|            Akureyri|             Akureyri|         Iceland|         AEY|\n",
      "|        13|        Hornafjordur|                 Hofn|         Iceland|         HFN|\n",
      "|        15|          Isafjordur|           Isafjordur|         Iceland|         IFJ|\n",
      "|        17|      Patreksfjordur|       Patreksfjordur|         Iceland|         PFJ|\n",
      "|        19|        Siglufjordur|         Siglufjordur|         Iceland|         SIJ|\n",
      "|        21|     Sault Ste Marie|   Sault Sainte Marie|          Canada|         YAM|\n",
      "|        22| Winnipeg St Andrews|             Winnipeg|          Canada|         YAV|\n",
      "|        23|          Shearwater|              Halifax|          Canada|         YAW|\n",
      "|        24|          St Anthony|          St. Anthony|          Canada|         YAY|\n",
      "|        25|              Tofino|               Tofino|          Canada|         YAZ|\n",
      "|        26|            Kugaaruk|            Pelly Bay|          Canada|         YBB|\n",
      "|        27|         Baie Comeau|          Baie Comeau|          Canada|         YBC|\n",
      "|        28|          Bagotville|           Bagotville|          Canada|         YBG|\n",
      "|        29|          Baker Lake|           Baker Lake|          Canada|         YBK|\n",
      "|        30|      Campbell River|       Campbell River|          Canada|         YBL|\n",
      "+----------+--------------------+---------------------+----------------+------------+\n",
      "only showing top 20 rows\n",
      "\n"
     ]
    }
   ],
   "source": [
    "#Crear una tabla temporal del dataframe df_list para poder hacer consultas SQL usando Spark\n",
    "#Despues hacer un conteo de registros y finalmente imprimir los registros\n",
    "df_list.createOrReplaceTempView(\"t\")\n",
    "c=spark.sql(\"  select * from t where (country=='Mexico') or (country=='Brazil') or (country=='United States')  \"\n",
    "          \"  or (country=='Canada') or (country=='Japan') or (mod(airport_id,2)=1)  \").count()\n",
    "print(\"En\",c,\"aeropuertos pueden existir atentados.\",\"\\nLa informacion es la siguiente:\")\n",
    "\n",
    "spark.sql(\"  select * from t where (country=='Mexico') or (country=='Brazil') or (country=='United States')  \"\n",
    "          \"  or (country=='Canada') or (country=='Japan') or (mod(airport_id,2)=1)  \").show()"
   ]
  },
  {
   "cell_type": "code",
   "execution_count": null,
   "id": "80a8f96a",
   "metadata": {},
   "outputs": [],
   "source": []
  }
 ],
 "metadata": {
  "kernelspec": {
   "display_name": "Python 3 (ipykernel)",
   "language": "python",
   "name": "python3"
  },
  "language_info": {
   "codemirror_mode": {
    "name": "ipython",
    "version": 3
   },
   "file_extension": ".py",
   "mimetype": "text/x-python",
   "name": "python",
   "nbconvert_exporter": "python",
   "pygments_lexer": "ipython3",
   "version": "3.9.12"
  }
 },
 "nbformat": 4,
 "nbformat_minor": 5
}
